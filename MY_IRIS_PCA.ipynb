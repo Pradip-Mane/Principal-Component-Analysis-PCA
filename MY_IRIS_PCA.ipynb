{
 "cells": [
  {
   "cell_type": "markdown",
   "id": "eb8e21de",
   "metadata": {},
   "source": [
    "## Import the Libraries"
   ]
  },
  {
   "cell_type": "code",
   "execution_count": 1,
   "id": "9dd2489b",
   "metadata": {},
   "outputs": [],
   "source": [
    "import pandas as pd \n",
    "import numpy as np\n",
    "\n",
    "import seaborn as sns\n",
    "import matplotlib.pyplot as plt\n",
    "\n",
    "from sklearn.linear_model import LogisticRegression\n",
    "from sklearn.decomposition import PCA"
   ]
  },
  {
   "cell_type": "markdown",
   "id": "fa929834",
   "metadata": {},
   "source": [
    "## Load the Iris dataset from seaborn"
   ]
  },
  {
   "cell_type": "code",
   "execution_count": 3,
   "id": "dbe3aab0",
   "metadata": {},
   "outputs": [
    {
     "data": {
      "text/html": [
       "<div>\n",
       "<style scoped>\n",
       "    .dataframe tbody tr th:only-of-type {\n",
       "        vertical-align: middle;\n",
       "    }\n",
       "\n",
       "    .dataframe tbody tr th {\n",
       "        vertical-align: top;\n",
       "    }\n",
       "\n",
       "    .dataframe thead th {\n",
       "        text-align: right;\n",
       "    }\n",
       "</style>\n",
       "<table border=\"1\" class=\"dataframe\">\n",
       "  <thead>\n",
       "    <tr style=\"text-align: right;\">\n",
       "      <th></th>\n",
       "      <th>sepal_length</th>\n",
       "      <th>sepal_width</th>\n",
       "      <th>petal_length</th>\n",
       "      <th>petal_width</th>\n",
       "      <th>species</th>\n",
       "    </tr>\n",
       "  </thead>\n",
       "  <tbody>\n",
       "    <tr>\n",
       "      <th>0</th>\n",
       "      <td>5.1</td>\n",
       "      <td>3.5</td>\n",
       "      <td>1.4</td>\n",
       "      <td>0.2</td>\n",
       "      <td>setosa</td>\n",
       "    </tr>\n",
       "    <tr>\n",
       "      <th>1</th>\n",
       "      <td>4.9</td>\n",
       "      <td>3.0</td>\n",
       "      <td>1.4</td>\n",
       "      <td>0.2</td>\n",
       "      <td>setosa</td>\n",
       "    </tr>\n",
       "    <tr>\n",
       "      <th>2</th>\n",
       "      <td>4.7</td>\n",
       "      <td>3.2</td>\n",
       "      <td>1.3</td>\n",
       "      <td>0.2</td>\n",
       "      <td>setosa</td>\n",
       "    </tr>\n",
       "    <tr>\n",
       "      <th>3</th>\n",
       "      <td>4.6</td>\n",
       "      <td>3.1</td>\n",
       "      <td>1.5</td>\n",
       "      <td>0.2</td>\n",
       "      <td>setosa</td>\n",
       "    </tr>\n",
       "    <tr>\n",
       "      <th>4</th>\n",
       "      <td>5.0</td>\n",
       "      <td>3.6</td>\n",
       "      <td>1.4</td>\n",
       "      <td>0.2</td>\n",
       "      <td>setosa</td>\n",
       "    </tr>\n",
       "  </tbody>\n",
       "</table>\n",
       "</div>"
      ],
      "text/plain": [
       "   sepal_length  sepal_width  petal_length  petal_width species\n",
       "0           5.1          3.5           1.4          0.2  setosa\n",
       "1           4.9          3.0           1.4          0.2  setosa\n",
       "2           4.7          3.2           1.3          0.2  setosa\n",
       "3           4.6          3.1           1.5          0.2  setosa\n",
       "4           5.0          3.6           1.4          0.2  setosa"
      ]
     },
     "execution_count": 3,
     "metadata": {},
     "output_type": "execute_result"
    }
   ],
   "source": [
    "# here we are loading dataset from inbuilt dataset from seaborn library\n",
    "df = sns.load_dataset('iris')\n",
    "df.head()"
   ]
  },
  {
   "cell_type": "markdown",
   "id": "76072c34",
   "metadata": {},
   "source": [
    "* sepcies is target variable \n",
    "* others are independent variable"
   ]
  },
  {
   "cell_type": "markdown",
   "id": "e630d818",
   "metadata": {},
   "source": [
    "## Check Target Variable Class Proportions"
   ]
  },
  {
   "cell_type": "code",
   "execution_count": 5,
   "id": "7ae2141d",
   "metadata": {},
   "outputs": [
    {
     "data": {
      "text/plain": [
       "virginica     0.333333\n",
       "versicolor    0.333333\n",
       "setosa        0.333333\n",
       "Name: species, dtype: float64"
      ]
     },
     "execution_count": 5,
     "metadata": {},
     "output_type": "execute_result"
    }
   ],
   "source": [
    "df['species'].value_counts(1)"
   ]
  },
  {
   "cell_type": "markdown",
   "id": "7040cd0d",
   "metadata": {},
   "source": [
    "* from above value counts it is clear that this a multiclass problem\n",
    "* logistic regression is capable to that multiclass problem"
   ]
  },
  {
   "cell_type": "code",
   "execution_count": 6,
   "id": "33eed9c9",
   "metadata": {},
   "outputs": [
    {
     "data": {
      "text/plain": [
       "(150, 5)"
      ]
     },
     "execution_count": 6,
     "metadata": {},
     "output_type": "execute_result"
    }
   ],
   "source": [
    "df.shape"
   ]
  },
  {
   "cell_type": "markdown",
   "id": "598f656c",
   "metadata": {},
   "source": [
    "## Describe the Data"
   ]
  },
  {
   "cell_type": "code",
   "execution_count": 7,
   "id": "e09f8a9d",
   "metadata": {},
   "outputs": [
    {
     "data": {
      "text/html": [
       "<div>\n",
       "<style scoped>\n",
       "    .dataframe tbody tr th:only-of-type {\n",
       "        vertical-align: middle;\n",
       "    }\n",
       "\n",
       "    .dataframe tbody tr th {\n",
       "        vertical-align: top;\n",
       "    }\n",
       "\n",
       "    .dataframe thead th {\n",
       "        text-align: right;\n",
       "    }\n",
       "</style>\n",
       "<table border=\"1\" class=\"dataframe\">\n",
       "  <thead>\n",
       "    <tr style=\"text-align: right;\">\n",
       "      <th></th>\n",
       "      <th>sepal_length</th>\n",
       "      <th>sepal_width</th>\n",
       "      <th>petal_length</th>\n",
       "      <th>petal_width</th>\n",
       "    </tr>\n",
       "  </thead>\n",
       "  <tbody>\n",
       "    <tr>\n",
       "      <th>count</th>\n",
       "      <td>150.00</td>\n",
       "      <td>150.00</td>\n",
       "      <td>150.00</td>\n",
       "      <td>150.00</td>\n",
       "    </tr>\n",
       "    <tr>\n",
       "      <th>mean</th>\n",
       "      <td>5.84</td>\n",
       "      <td>3.06</td>\n",
       "      <td>3.76</td>\n",
       "      <td>1.20</td>\n",
       "    </tr>\n",
       "    <tr>\n",
       "      <th>std</th>\n",
       "      <td>0.83</td>\n",
       "      <td>0.44</td>\n",
       "      <td>1.77</td>\n",
       "      <td>0.76</td>\n",
       "    </tr>\n",
       "    <tr>\n",
       "      <th>min</th>\n",
       "      <td>4.30</td>\n",
       "      <td>2.00</td>\n",
       "      <td>1.00</td>\n",
       "      <td>0.10</td>\n",
       "    </tr>\n",
       "    <tr>\n",
       "      <th>25%</th>\n",
       "      <td>5.10</td>\n",
       "      <td>2.80</td>\n",
       "      <td>1.60</td>\n",
       "      <td>0.30</td>\n",
       "    </tr>\n",
       "    <tr>\n",
       "      <th>50%</th>\n",
       "      <td>5.80</td>\n",
       "      <td>3.00</td>\n",
       "      <td>4.35</td>\n",
       "      <td>1.30</td>\n",
       "    </tr>\n",
       "    <tr>\n",
       "      <th>75%</th>\n",
       "      <td>6.40</td>\n",
       "      <td>3.30</td>\n",
       "      <td>5.10</td>\n",
       "      <td>1.80</td>\n",
       "    </tr>\n",
       "    <tr>\n",
       "      <th>max</th>\n",
       "      <td>7.90</td>\n",
       "      <td>4.40</td>\n",
       "      <td>6.90</td>\n",
       "      <td>2.50</td>\n",
       "    </tr>\n",
       "  </tbody>\n",
       "</table>\n",
       "</div>"
      ],
      "text/plain": [
       "       sepal_length  sepal_width  petal_length  petal_width\n",
       "count        150.00       150.00        150.00       150.00\n",
       "mean           5.84         3.06          3.76         1.20\n",
       "std            0.83         0.44          1.77         0.76\n",
       "min            4.30         2.00          1.00         0.10\n",
       "25%            5.10         2.80          1.60         0.30\n",
       "50%            5.80         3.00          4.35         1.30\n",
       "75%            6.40         3.30          5.10         1.80\n",
       "max            7.90         4.40          6.90         2.50"
      ]
     },
     "execution_count": 7,
     "metadata": {},
     "output_type": "execute_result"
    }
   ],
   "source": [
    "df.describe().round(2)"
   ]
  },
  {
   "cell_type": "markdown",
   "id": "29702693",
   "metadata": {},
   "source": [
    "### **To compare the result we create Logistic tregresion without PCA and then with PCA**"
   ]
  },
  {
   "cell_type": "markdown",
   "id": "9e2fb660",
   "metadata": {},
   "source": [
    "## X,y Split"
   ]
  },
  {
   "cell_type": "code",
   "execution_count": 9,
   "id": "64c2b145",
   "metadata": {},
   "outputs": [],
   "source": [
    "#create X, y\n",
    "X = df.drop('species',axis=1)\n",
    "y = df['species']"
   ]
  },
  {
   "cell_type": "markdown",
   "id": "2faaef01",
   "metadata": {},
   "source": [
    "## Train Test Split"
   ]
  },
  {
   "cell_type": "code",
   "execution_count": 10,
   "id": "9e7a742a",
   "metadata": {},
   "outputs": [],
   "source": [
    "#Split the data\n",
    "from sklearn.model_selection import train_test_split\n",
    "X_train, X_test, y_train, y_test = train_test_split(X, y, test_size=0.2, random_state=101)\n"
   ]
  },
  {
   "cell_type": "code",
   "execution_count": 12,
   "id": "e1bad467",
   "metadata": {},
   "outputs": [
    {
     "data": {
      "text/plain": [
       "((150, 5), (120, 4), (30, 4))"
      ]
     },
     "execution_count": 12,
     "metadata": {},
     "output_type": "execute_result"
    }
   ],
   "source": [
    "# Check Shape\n",
    "df.shape, X_train.shape, X_test.shape"
   ]
  },
  {
   "cell_type": "markdown",
   "id": "63e9c8fa",
   "metadata": {},
   "source": [
    "## Scaling the Data (Required for PCA)"
   ]
  },
  {
   "cell_type": "markdown",
   "id": "3354e7d4",
   "metadata": {},
   "source": [
    "**Main reason why we are doing scaling?**\n",
    "* there is lots of matrix ultplication is happening in PCA\n",
    "\n",
    "* as we know in PCA each principle componant have a single eigen value and  \n",
    "* each principle componant have set of numbers called eigen vectors. \n",
    "* these eigen vectors are going to multiplied by the independent variable values to get the value of perticular principle component. \n",
    "* since there is lot of matrix multplication happning, we can directly increse the efficiency of process if the all the numbers on same scale preferebaly on smaller scale\n",
    "\n",
    "* so to make the process faster and utilise memory and processing power its a good idea to scale the data before implementing PCA "
   ]
  },
  {
   "cell_type": "code",
   "execution_count": 13,
   "id": "ae540cf5",
   "metadata": {},
   "outputs": [],
   "source": [
    "# import StandardScaler function from sklearn\n",
    "from sklearn.preprocessing import StandardScaler"
   ]
  },
  {
   "cell_type": "code",
   "execution_count": 14,
   "id": "0dd37afa",
   "metadata": {},
   "outputs": [],
   "source": [
    "scaler = StandardScaler()\n",
    "X_train_scaled = scaler.fit_transform(X_train) \n",
    "# scaler.fit(X_train)\n",
    "# scaler.transform(X_train)\n",
    "X_test_scaled = scaler.transform(X_test)"
   ]
  },
  {
   "cell_type": "markdown",
   "id": "93159b64",
   "metadata": {},
   "source": [
    "**Note 1**\n",
    " * formula for scalling: **Zscore=(Xi-mean)/std**\n",
    "    \n",
    " * in backround **fit_transform** calculate the mean and std values of each column of train data and then scale the column with Zscore formula \n",
    " \n",
    " * we need to scale the test data with same mean and std values which are used while scaling train data so for scaling test data we only use **transform** \n",
    " \n",
    " \n",
    " **why we do scalling of train and test data separately?**\n",
    " * if we do sacalling on whole dataset first and then do split the there is problem of data leakage because the mean and std which we used for scalling that has also taken into account the values which are finally end up with the text dataset values where as we are not supposed to show anything related text dataset to model. which is nothing but a data leakage \n",
    " \n",
    " \n",
    " **Note 2**\n",
    "  * we can not do PCA for categorical features\n",
    "  * if categorical features are available the we need to segregate the categorical features aside\n",
    "  * and do PCA only on rest of Contineous feature value column and then do dimentionality reduction \n",
    "  * then we add back to categorical features\n",
    "  \n",
    "  "
   ]
  },
  {
   "cell_type": "code",
   "execution_count": 15,
   "id": "8a6fd19a",
   "metadata": {},
   "outputs": [
    {
     "data": {
      "text/plain": [
       "array([[ 0.76416119, -0.18596829,  1.1178787 ,  1.2484939 ],\n",
       "       [-0.42673937, -1.39880497,  0.10968747,  0.09800464],\n",
       "       [ 0.76416119, -0.18596829,  0.94984683,  0.73716534],\n",
       "       [-0.0694692 , -0.9136703 ,  0.05367685, -0.0298275 ],\n",
       "       [ 1.12143136, -0.18596829,  0.94984683,  1.12066176],\n",
       "       [-0.18855925, -0.67110296,  0.38974059,  0.09800464],\n",
       "       [ 1.0023413 ,  0.05659904,  0.50176184,  0.35366892],\n",
       "       [ 0.04962086, -0.18596829,  0.22170872,  0.35366892],\n",
       "       [-0.30764931, -0.9136703 ,  0.22170872,  0.09800464],\n",
       "       [ 2.19324186, -0.18596829,  1.28591057,  1.37632604],\n",
       "       [-0.90309959,  1.51200306, -1.29057812, -1.05248462],\n",
       "       [-1.49854987,  1.26943572, -1.57063124, -1.3081489 ],\n",
       "       [-1.37945981,  0.29916638, -1.2345675 , -1.3081489 ],\n",
       "       [ 1.0023413 , -0.18596829,  0.66979371,  0.6093332 ],\n",
       "       [-0.30764931, -0.18596829,  0.38974059,  0.35366892],\n",
       "       [-1.85582003, -0.18596829, -1.51462062, -1.43598104],\n",
       "       [ 1.47870152, -0.18596829,  1.17388932,  1.12066176],\n",
       "       [-0.0694692 , -0.9136703 ,  0.1656981 , -0.28549178],\n",
       "       [-1.1412797 ,  0.05659904, -1.29057812, -1.3081489 ],\n",
       "       [-0.90309959, -1.39880497, -0.45041877, -0.15765964],\n",
       "       [-0.30764931, -1.39880497,  0.05367685, -0.15765964],\n",
       "       [-0.90309959,  0.54173372, -1.17855687, -0.92465248],\n",
       "       [-0.0694692 , -0.9136703 ,  0.72580433,  0.86499748],\n",
       "       [-1.02218964,  1.26943572, -1.34658875, -1.3081489 ],\n",
       "       [-1.1412797 , -1.6413723 , -0.28238689, -0.28549178],\n",
       "       [ 1.0023413 , -1.39880497,  1.1178787 ,  0.73716534],\n",
       "       [-0.0694692 , -1.15623763,  0.10968747, -0.0298275 ],\n",
       "       [-1.1412797 ,  1.26943572, -1.34658875, -1.43598104],\n",
       "       [-0.90309959,  0.78430105, -1.29057812, -1.3081489 ],\n",
       "       [ 0.28780097, -0.18596829,  0.44575121,  0.22583678],\n",
       "       [-1.49854987,  0.78430105, -1.34658875, -1.18031676],\n",
       "       [ 0.64507113,  0.29916638,  0.38974059,  0.35366892],\n",
       "       [ 2.19324186, -1.15623763,  1.73399556,  1.37632604],\n",
       "       [ 0.52598108,  0.78430105,  1.00585745,  1.50415818],\n",
       "       [-0.54582942, -0.18596829,  0.38974059,  0.35366892],\n",
       "       [-0.0694692 ,  2.23970506, -1.45860999, -1.3081489 ],\n",
       "       [ 0.16871091, -0.42853563,  0.38974059,  0.35366892],\n",
       "       [-1.49854987,  0.05659904, -1.29057812, -1.3081489 ],\n",
       "       [-0.0694692 , -0.9136703 ,  0.72580433,  0.86499748],\n",
       "       [ 1.24052141,  0.29916638,  1.06186807,  1.37632604],\n",
       "       [ 0.16871091,  0.78430105,  0.38974059,  0.48150106],\n",
       "       [ 0.40689102,  0.78430105,  0.8938362 ,  1.37632604],\n",
       "       [ 0.88325125, -0.42853563,  0.44575121,  0.09800464],\n",
       "       [ 0.52598108,  0.54173372,  1.22989995,  1.63199032],\n",
       "       [-1.37945981,  0.29916638, -1.40259937, -1.3081489 ],\n",
       "       [-1.26036976, -0.18596829, -1.34658875, -1.18031676],\n",
       "       [-1.1412797 ,  0.05659904, -1.29057812, -1.43598104],\n",
       "       [ 0.76416119, -0.67110296,  0.44575121,  0.35366892],\n",
       "       [-1.49854987,  0.29916638, -1.34658875, -1.3081489 ],\n",
       "       [-0.90309959,  1.75457039, -1.2345675 , -1.3081489 ],\n",
       "       [-1.02218964,  0.78430105, -1.2345675 , -1.05248462],\n",
       "       [ 1.83597169, -0.67110296,  1.28591057,  0.86499748],\n",
       "       [-0.78400953,  1.02686839, -1.29057812, -1.3081489 ],\n",
       "       [-0.54582942,  0.78430105, -1.17855687, -1.3081489 ],\n",
       "       [ 0.16871091, -0.18596829,  0.55777246,  0.73716534],\n",
       "       [ 0.40689102, -0.67110296,  0.55777246,  0.73716534],\n",
       "       [-1.26036976,  0.05659904, -1.2345675 , -1.3081489 ],\n",
       "       [-1.02218964,  0.29916638, -1.45860999, -1.3081489 ],\n",
       "       [ 1.59779158,  0.29916638,  1.22989995,  0.73716534],\n",
       "       [ 1.59779158,  1.26943572,  1.28591057,  1.63199032],\n",
       "       [-0.18855925, -1.39880497,  0.66979371,  0.99282962],\n",
       "       [-1.26036976,  0.78430105, -1.06653563, -1.3081489 ],\n",
       "       [-0.18855925, -1.15623763, -0.17036565, -0.28549178],\n",
       "       [ 1.12143136,  0.29916638,  1.17388932,  1.37632604],\n",
       "       [-0.90309959,  1.02686839, -1.34658875, -1.18031676],\n",
       "       [-1.26036976, -0.18596829, -1.34658875, -1.43598104],\n",
       "       [ 0.16871091, -2.12650697,  0.66979371,  0.35366892],\n",
       "       [ 0.64507113, -0.67110296,  1.00585745,  1.12066176],\n",
       "       [-0.18855925,  3.2099744 , -1.29057812, -1.05248462],\n",
       "       [ 0.28780097, -0.67110296,  0.10968747,  0.09800464],\n",
       "       [-0.18855925,  1.75457039, -1.17855687, -1.18031676],\n",
       "       [-1.1412797 , -1.39880497,  0.38974059,  0.6093332 ],\n",
       "       [ 2.19324186,  1.75457039,  1.62197431,  1.2484939 ],\n",
       "       [-1.73672998, -0.18596829, -1.40259937, -1.3081489 ],\n",
       "       [ 0.52598108, -0.42853563,  1.00585745,  0.73716534],\n",
       "       [ 0.52598108,  0.54173372,  0.50176184,  0.48150106],\n",
       "       [ 1.24052141,  0.05659904,  0.61378309,  0.35366892],\n",
       "       [ 1.0023413 ,  0.54173372,  1.06186807,  1.12066176],\n",
       "       [-1.02218964,  0.78430105, -1.29057812, -1.3081489 ],\n",
       "       [ 1.24052141,  0.05659904,  0.8938362 ,  1.12066176],\n",
       "       [-0.78400953,  0.78430105, -1.34658875, -1.3081489 ],\n",
       "       [-0.18855925, -0.67110296,  0.1656981 ,  0.09800464],\n",
       "       [ 0.52598108, -0.67110296,  0.72580433,  0.35366892],\n",
       "       [-0.42673937,  1.02686839, -1.40259937, -1.3081489 ],\n",
       "       [ 0.16871091, -2.12650697,  0.10968747, -0.28549178],\n",
       "       [-1.73672998, -0.42853563, -1.34658875, -1.3081489 ],\n",
       "       [ 1.0023413 ,  0.05659904,  1.00585745,  1.50415818],\n",
       "       [ 0.28780097, -0.67110296,  0.50176184, -0.0298275 ],\n",
       "       [ 2.0741518 , -0.18596829,  1.56596369,  1.12066176],\n",
       "       [-0.90309959,  1.02686839, -1.34658875, -1.3081489 ],\n",
       "       [ 1.0023413 ,  0.54173372,  1.06186807,  1.63199032],\n",
       "       [ 1.71688164, -0.42853563,  1.39793182,  0.73716534],\n",
       "       [ 0.04962086, -0.18596829,  0.72580433,  0.73716534],\n",
       "       [ 1.12143136, -0.67110296,  0.55777246,  0.22583678],\n",
       "       [-0.54582942,  1.51200306, -1.29057812, -1.3081489 ],\n",
       "       [-0.90309959,  1.75457039, -1.29057812, -1.18031676],\n",
       "       [-0.30764931, -0.67110296,  0.61378309,  0.99282962],\n",
       "       [ 0.52598108, -1.39880497,  0.61378309,  0.35366892],\n",
       "       [-0.90309959,  1.75457039, -1.06653563, -1.05248462],\n",
       "       [-0.78400953, -0.9136703 ,  0.05367685,  0.22583678],\n",
       "       [ 2.43142197,  1.75457039,  1.45394244,  0.99282962],\n",
       "       [ 0.64507113,  0.29916638,  0.83782558,  1.37632604],\n",
       "       [ 0.64507113, -0.9136703 ,  0.83782558,  0.86499748],\n",
       "       [ 0.16871091, -0.9136703 ,  0.72580433,  0.48150106],\n",
       "       [-1.02218964,  0.54173372, -1.34658875, -1.3081489 ],\n",
       "       [ 1.24052141,  0.05659904,  0.72580433,  1.37632604],\n",
       "       [-0.54582942,  1.99713773, -1.17855687, -1.05248462],\n",
       "       [ 0.76416119,  0.29916638,  0.72580433,  0.99282962],\n",
       "       [-1.02218964, -2.61164164, -0.17036565, -0.28549178],\n",
       "       [ 1.0023413 , -0.18596829,  0.78181496,  1.37632604],\n",
       "       [ 0.64507113, -0.67110296,  1.00585745,  1.2484939 ],\n",
       "       [-1.02218964,  1.02686839, -1.40259937, -1.18031676],\n",
       "       [ 0.64507113,  0.05659904,  0.94984683,  0.73716534],\n",
       "       [ 0.88325125, -0.18596829,  0.33372997,  0.22583678],\n",
       "       [ 0.52598108, -1.88393964,  0.33372997,  0.09800464],\n",
       "       [ 0.28780097, -0.42853563,  0.50176184,  0.22583678],\n",
       "       [ 0.04962086,  0.29916638,  0.55777246,  0.73716534],\n",
       "       [-0.42673937, -1.6413723 , -0.0583444 , -0.28549178],\n",
       "       [-1.26036976,  0.78430105, -1.2345675 , -1.3081489 ],\n",
       "       [-0.18855925, -0.18596829,  0.22170872, -0.0298275 ]])"
      ]
     },
     "execution_count": 15,
     "metadata": {},
     "output_type": "execute_result"
    }
   ],
   "source": [
    "X_train_scaled"
   ]
  },
  {
   "cell_type": "code",
   "execution_count": 17,
   "id": "dab2fae2",
   "metadata": {},
   "outputs": [
    {
     "data": {
      "text/plain": [
       "(-1.0565622451016074e-15, 0.9999999999999999)"
      ]
     },
     "execution_count": 17,
     "metadata": {},
     "output_type": "execute_result"
    }
   ],
   "source": [
    "X_train_scaled[:,1].mean(), X_train_scaled[:,1].std()"
   ]
  },
  {
   "cell_type": "markdown",
   "id": "e621a135",
   "metadata": {},
   "source": [
    "**Note**\n",
    "* after scalling mean of the column is = 0\n",
    "* after scalling std of the column is = 1"
   ]
  },
  {
   "cell_type": "markdown",
   "id": "80f0e659",
   "metadata": {},
   "source": [
    "## Train & Predict using a Logistic Regression Model"
   ]
  },
  {
   "cell_type": "code",
   "execution_count": 18,
   "id": "b202d95c",
   "metadata": {},
   "outputs": [],
   "source": [
    "# fit a logistic regression model and get its predictions on train and test datasets\n",
    "lr = LogisticRegression()\n",
    "lr.fit(X_train_scaled,y_train)\n",
    "train_pred = lr.predict(X_train_scaled)\n",
    "test_pred = lr.predict(X_test_scaled)\n"
   ]
  },
  {
   "cell_type": "markdown",
   "id": "763e3a70",
   "metadata": {},
   "source": [
    "## Evaluate Accuracy of Predictions"
   ]
  },
  {
   "cell_type": "code",
   "execution_count": 19,
   "id": "b903c3f3",
   "metadata": {},
   "outputs": [],
   "source": [
    "# import accuracy_score function from sklearn.metrics\n",
    "from sklearn.metrics import accuracy_score"
   ]
  },
  {
   "cell_type": "code",
   "execution_count": 20,
   "id": "d1379d17",
   "metadata": {},
   "outputs": [
    {
     "data": {
      "text/plain": [
       "(0.9666666666666667, 0.9666666666666667)"
      ]
     },
     "execution_count": 20,
     "metadata": {},
     "output_type": "execute_result"
    }
   ],
   "source": [
    "# calculate accuracy on train & test data predictions\n",
    "train_acc = accuracy_score(y_train,train_pred) # lr.score(X_train_scaled,y_train)\n",
    "test_acc = accuracy_score(y_test,test_pred)\n",
    "train_acc, test_acc"
   ]
  },
  {
   "cell_type": "markdown",
   "id": "d24b2d56",
   "metadata": {},
   "source": [
    "## Implement PCA to Reduce Dimensions\n",
    "we want to retain 95% of the ability to explain the variations in the dataset. So we want to reduce the dimensions by considering only as many top Principal Components, which together will still be able to explain 95% of the variations in the data. Depending on the domain and problem, it is a call to be taken as to how high you want this percentage to be."
   ]
  },
  {
   "cell_type": "code",
   "execution_count": 21,
   "id": "84582de2",
   "metadata": {},
   "outputs": [],
   "source": [
    "# create a PCA object to retain 95% of explainability\n",
    "pca = PCA(n_components=0.95) # n_components=3 => top 3 principle component\n",
    "pca.fit(X_train_scaled)\n",
    "# transform the original training dataset \n",
    "X_train_trf = pca.transform(X_train_scaled)\n",
    "X_test_trf = pca.transform(X_test_scaled)"
   ]
  },
  {
   "cell_type": "markdown",
   "id": "84c55ce6",
   "metadata": {},
   "source": [
    "* \"fit\" will do background calculation"
   ]
  },
  {
   "cell_type": "markdown",
   "id": "2261770c",
   "metadata": {},
   "source": [
    "## Check the Reduced Dimensions"
   ]
  },
  {
   "cell_type": "code",
   "execution_count": 22,
   "id": "5f170298",
   "metadata": {},
   "outputs": [
    {
     "data": {
      "text/plain": [
       "((120, 2), (30, 2))"
      ]
     },
     "execution_count": 22,
     "metadata": {},
     "output_type": "execute_result"
    }
   ],
   "source": [
    "X_train_trf.shape, X_test_trf.shape"
   ]
  },
  {
   "cell_type": "markdown",
   "id": "e1a68fdf",
   "metadata": {},
   "source": [
    "**is that PCA retain two variable and delet two variable?**\n",
    "* No, its not like that\n",
    "* PCA created Priciple components (PC1,PC2,PC3,.....PCn) which are linear combination of original features\n",
    "* out of which we select PC1, PC2 with the use of (n_components=0.95 or n_components=2)"
   ]
  },
  {
   "cell_type": "code",
   "execution_count": 23,
   "id": "c0d9ed88",
   "metadata": {},
   "outputs": [
    {
     "data": {
      "text/plain": [
       "array([[ 1.80493828, -0.21426637],\n",
       "       [ 0.25517327,  1.44497662],\n",
       "       [ 1.41820595, -0.17141317],\n",
       "       [ 0.21325761,  0.87781662],\n",
       "       [ 1.82305213, -0.32669546],\n",
       "       [ 0.35545092,  0.67683443],\n",
       "       [ 1.0039873 , -0.44280731],\n",
       "       [ 0.40276083,  0.12422613],\n",
       "       [ 0.25779311,  0.94835163],\n",
       "       [ 2.72656467, -0.73024854],\n",
       "       [-2.20922505, -0.9852658 ],\n",
       "       [-2.76710222, -0.52418125],\n",
       "       [-2.25927778,  0.33209822],\n",
       "       [ 1.30864723, -0.23969052],\n",
       "       [ 0.3123476 ,  0.2465219 ],\n",
       "       [-2.61967987,  0.96765863],\n",
       "       [ 2.14104661, -0.45689302],\n",
       "       [ 0.13368207,  0.89529232],\n",
       "       [-2.10396433,  0.47567551],\n",
       "       [-0.46513895,  1.6435746 ],\n",
       "       [ 0.14071226,  1.42394472],\n",
       "       [-1.82179701, -0.09244361],\n",
       "       [ 1.10949254,  0.79520394],\n",
       "       [-2.3864584 , -0.6962729 ],\n",
       "       [-0.50267584,  1.96007959],\n",
       "       [ 1.95367128,  0.87259532],\n",
       "       [ 0.30829558,  1.10292442],\n",
       "       [-2.52140712, -0.64451214],\n",
       "       [-2.16624472, -0.28682255],\n",
       "       [ 0.58580658,  0.04578933],\n",
       "       [-2.43970369, -0.08608998],\n",
       "       [ 0.68848967, -0.54110404],\n",
       "       [ 3.23676298,  0.16566736],\n",
       "       [ 1.50910968, -1.05290042],\n",
       "       [ 0.18704891,  0.33031007],\n",
       "       [-2.20039227, -1.93411444],\n",
       "       [ 0.62547136,  0.30518219],\n",
       "       [-2.29191237,  0.60135776],\n",
       "       [ 1.10949254,  0.79520394],\n",
       "       [ 1.97027073, -0.84305381],\n",
       "       [ 0.38513893, -0.83586764],\n",
       "       [ 1.30913774, -0.998882  ],\n",
       "       [ 0.88928031,  0.07242221],\n",
       "       [ 1.77398185, -0.84104578],\n",
       "       [-2.3568126 ,  0.3354847 ],\n",
       "       [-2.06429954,  0.73506837],\n",
       "       [-2.17626371,  0.48554218],\n",
       "       [ 1.03375608,  0.32081957],\n",
       "       [-2.38695034,  0.37624996],\n",
       "       [-2.38383856, -1.1928979 ],\n",
       "       [-2.0517837 , -0.26579065],\n",
       "       [ 2.37447184, -0.11262632],\n",
       "       [-2.16612173, -0.55495327],\n",
       "       [-1.91327345, -0.41476246],\n",
       "       [ 0.87737796,  0.04595904],\n",
       "       [ 1.12772938,  0.41464413],\n",
       "       [-2.13410207,  0.51644076],\n",
       "       [-2.20137616,  0.21093127],\n",
       "       [ 1.89425671, -0.92278916],\n",
       "       [ 2.18275851, -1.89793125],\n",
       "       [ 1.21168369,  1.28083343],\n",
       "       [-2.22414633, -0.16565561],\n",
       "       [-0.06151056,  1.170196  ],\n",
       "       [ 1.97264459, -0.80341738],\n",
       "       [-2.18898331, -0.52179703],\n",
       "       [-2.2088983 ,  0.75480172],\n",
       "       [ 1.22571393,  1.88319446],\n",
       "       [ 1.73001907,  0.29222531],\n",
       "       [-2.27101349, -2.82028671],\n",
       "       [ 0.44349028,  0.51490223],\n",
       "       [-1.90313148, -1.45525791],\n",
       "       [ 0.33103273,  1.65123028],\n",
       "       [ 2.34912404, -2.53704787],\n",
       "       [-2.41970792,  0.91364021],\n",
       "       [ 1.38794522,  0.1374828 ],\n",
       "       [ 0.70063655, -0.73757091],\n",
       "       [ 1.19430921, -0.52885314],\n",
       "       [ 1.63784691, -0.96576892],\n",
       "       [-2.22889406, -0.24492847],\n",
       "       [ 1.79066351, -0.59369734],\n",
       "       [-2.13610697, -0.32758781],\n",
       "       [ 0.22540449,  0.68134974],\n",
       "       [ 1.07101541,  0.3989636 ],\n",
       "       [-2.0431969 , -0.67837786],\n",
       "       [ 0.53910097,  1.94381613],\n",
       "       [-2.32466996,  1.13874801],\n",
       "       [ 1.94728616, -0.54176686],\n",
       "       [ 0.59877215,  0.51686711],\n",
       "       [ 2.6818746 , -0.67426524],\n",
       "       [-2.26128268, -0.51193035],\n",
       "       [ 1.92704442, -1.00523563],\n",
       "       [ 2.24201996, -0.28935984],\n",
       "       [ 0.91226343,  0.08446664],\n",
       "       [ 1.21442796,  0.20274634],\n",
       "       [-2.16587575, -1.09121469],\n",
       "       [-2.34405079, -1.20163575],\n",
       "       [ 0.92894365,  0.64514646],\n",
       "       [ 1.19357129,  1.07993114],\n",
       "       [-2.14170498, -1.21601774],\n",
       "       [-0.01803973,  1.10944777],\n",
       "       [ 2.23228916, -2.59771619],\n",
       "       [ 1.52697755, -0.62906808],\n",
       "       [ 1.55041185,  0.54158178],\n",
       "       [ 1.01789311,  0.7410158 ],\n",
       "       [-2.19887931, -0.01756301],\n",
       "       [ 1.83772744, -0.61004422],\n",
       "       [-2.08130651, -1.56567896],\n",
       "       [ 1.30770555, -0.63910448],\n",
       "       [-0.12489783,  2.82087437],\n",
       "       [ 1.80746672, -0.30114825],\n",
       "       [ 1.80231844,  0.28235863],\n",
       "       [-2.28414426, -0.47877412],\n",
       "       [ 1.29303024, -0.35575572],\n",
       "       [ 0.83403011, -0.16142344],\n",
       "       [ 1.01146722,  1.5577819 ],\n",
       "       [ 0.68084455,  0.27089713],\n",
       "       [ 0.68967588, -0.36462013],\n",
       "       [ 0.00326668,  1.70419977],\n",
       "       [-2.32168116, -0.16226913],\n",
       "       [ 0.060564  ,  0.23761433]])"
      ]
     },
     "execution_count": 23,
     "metadata": {},
     "output_type": "execute_result"
    }
   ],
   "source": [
    "X_train_trf"
   ]
  },
  {
   "cell_type": "code",
   "execution_count": 27,
   "id": "86b4159d",
   "metadata": {},
   "outputs": [
    {
     "data": {
      "text/plain": [
       "array([[ 0.52606701, -0.25776909,  0.5804543 ,  0.56558059],\n",
       "       [-0.35178491, -0.93267558, -0.02015382, -0.07718464]])"
      ]
     },
     "execution_count": 27,
     "metadata": {},
     "output_type": "execute_result"
    }
   ],
   "source": [
    "#coefficients\n",
    "pca.components_"
   ]
  },
  {
   "cell_type": "markdown",
   "id": "25cb7a83",
   "metadata": {},
   "source": [
    "* These are the coeffiecient which we are used to calculate Priciple components"
   ]
  },
  {
   "cell_type": "code",
   "execution_count": 28,
   "id": "d48fda09",
   "metadata": {},
   "outputs": [
    {
     "data": {
      "text/plain": [
       "array([2.94793148, 0.92567629])"
      ]
     },
     "execution_count": 28,
     "metadata": {},
     "output_type": "execute_result"
    }
   ],
   "source": [
    "#eigen values\n",
    "pca.explained_variance_"
   ]
  },
  {
   "cell_type": "markdown",
   "id": "af076d29",
   "metadata": {},
   "source": [
    "* these two are the eigen values of the Principle Componenet PC1, PC2 respectively\n",
    "\n",
    "**Note**\n",
    "* addition of eigen values= no. of original features (Approxmately)\n",
    "* i.e 3.88 = 4 (approxmately)\n",
    "* Here 2.94 = 3 (approx) => principle component PC1 able to do single handendly job of what 3 original variables were doing\n",
    "* Here 0.92 = 1 (approx) => principle component PC1 able to do job of 1 original variable was doing"
   ]
  },
  {
   "cell_type": "code",
   "execution_count": 29,
   "id": "45b5eebc",
   "metadata": {},
   "outputs": [
    {
     "data": {
      "text/plain": [
       "array([0.73084135, 0.22949058])"
      ]
     },
     "execution_count": 29,
     "metadata": {},
     "output_type": "execute_result"
    }
   ],
   "source": [
    "#Eigen values divided total of all eigen values\n",
    "pca.explained_variance_ratio_"
   ]
  },
  {
   "cell_type": "markdown",
   "id": "50320f70",
   "metadata": {},
   "source": [
    "* the first principle component able to explain 73% of variation in dataset\n",
    "* the second principle component able to explain 22% of variation in dataset\n",
    "* both of them  able to explain 95% of variation in dataset  **(this was we set in n_components=0.95)**"
   ]
  },
  {
   "cell_type": "markdown",
   "id": "e0f975a7",
   "metadata": {},
   "source": [
    "## Train a Fresh Logistic Regression Model on the smaller Dimension Dataset obtained using PCA"
   ]
  },
  {
   "cell_type": "code",
   "execution_count": 30,
   "id": "827eb2d7",
   "metadata": {},
   "outputs": [],
   "source": [
    "#logistic Regression with PCA\n",
    "lr_pca = LogisticRegression()\n",
    "lr_pca.fit(X_train_trf,y_train)\n",
    "train_pred_trf = lr_pca.predict(X_train_trf)\n",
    "test_pred_trf = lr_pca.predict(X_test_trf)\n"
   ]
  },
  {
   "cell_type": "markdown",
   "id": "6326b36c",
   "metadata": {},
   "source": [
    "## Calculate Accuracy"
   ]
  },
  {
   "cell_type": "code",
   "execution_count": 31,
   "id": "8d532d7c",
   "metadata": {},
   "outputs": [
    {
     "data": {
      "text/plain": [
       "(0.925, 0.9)"
      ]
     },
     "execution_count": 31,
     "metadata": {},
     "output_type": "execute_result"
    }
   ],
   "source": [
    "# calculate accuracy on training and test data predictions\n",
    "train_acc_trf = accuracy_score(y_train,train_pred_trf)\n",
    "test_acc_trf = accuracy_score(y_test, test_pred_trf)\n",
    "train_acc_trf, test_acc_trf"
   ]
  },
  {
   "cell_type": "markdown",
   "id": "55f2ba89",
   "metadata": {},
   "source": [
    "**Dimentionality Reduction**     4------>2      (50%)\n",
    "\n",
    "**Accuracy Reduced by**         97%----->90%    (7%)\n",
    "\n",
    "**Is 7% reduction in accuracy is feasible with 50% reduction in dimentionality**?\n",
    "    \n",
    "  Ans--  It is depend upon the domain for which we are doing the model  \n"
   ]
  },
  {
   "cell_type": "markdown",
   "id": "4a727b16",
   "metadata": {},
   "source": [
    "**when will we use PCA?**\n",
    "\n",
    "* If we have numerical features in dataset and we want to reduce the dimentions of dataset \n",
    "* i.e if we want to reduce the no. of feature then we can use PCA\n",
    "* If we want to eliminate multi-collinearity\n"
   ]
  }
 ],
 "metadata": {
  "kernelspec": {
   "display_name": "Python 3",
   "language": "python",
   "name": "python3"
  },
  "language_info": {
   "codemirror_mode": {
    "name": "ipython",
    "version": 3
   },
   "file_extension": ".py",
   "mimetype": "text/x-python",
   "name": "python",
   "nbconvert_exporter": "python",
   "pygments_lexer": "ipython3",
   "version": "3.8.8"
  },
  "toc": {
   "base_numbering": 1,
   "nav_menu": {},
   "number_sections": true,
   "sideBar": true,
   "skip_h1_title": true,
   "title_cell": "Table of Contents",
   "title_sidebar": "Contents",
   "toc_cell": false,
   "toc_position": {},
   "toc_section_display": true,
   "toc_window_display": false
  }
 },
 "nbformat": 4,
 "nbformat_minor": 5
}
